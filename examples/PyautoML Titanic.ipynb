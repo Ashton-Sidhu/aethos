{
 "cells": [
  {
   "cell_type": "code",
   "execution_count": 4,
   "metadata": {},
   "outputs": [],
   "source": [
    "from pyautoml import Clean, Preprocess, Feature\n",
    "import pandas as pd\n",
    "\n",
    "train_data = pd.read_csv('data/train.csv')\n",
    "test_data = pd.read_csv('data/test.csv')"
   ]
  },
  {
   "cell_type": "code",
   "execution_count": 5,
   "metadata": {},
   "outputs": [],
   "source": [
    "clean = Clean(train_data=train_data, test_data=test_data)"
   ]
  },
  {
   "cell_type": "markdown",
   "metadata": {},
   "source": [
    "## Cleaning"
   ]
  },
  {
   "cell_type": "code",
   "execution_count": 6,
   "metadata": {},
   "outputs": [
    {
     "name": "stdout",
     "output_type": "stream",
     "text": [
      "             Total   Percent\n",
      "Cabin          687  0.771044\n",
      "Age            177  0.198653\n",
      "Embarked         2  0.002245\n",
      "Fare             0  0.000000\n",
      "Ticket           0  0.000000\n",
      "Parch            0  0.000000\n",
      "SibSp            0  0.000000\n",
      "Sex              0  0.000000\n",
      "Name             0  0.000000\n",
      "Pclass           0  0.000000\n",
      "Survived         0  0.000000\n",
      "PassengerId      0  0.000000\n",
      "             Total   Percent\n",
      "Cabin          327  0.782297\n",
      "Age             86  0.205742\n",
      "Fare             1  0.002392\n",
      "Embarked         0  0.000000\n",
      "Ticket           0  0.000000\n",
      "Parch            0  0.000000\n",
      "SibSp            0  0.000000\n",
      "Sex              0  0.000000\n",
      "Name             0  0.000000\n",
      "Pclass           0  0.000000\n",
      "PassengerId      0  0.000000\n"
     ]
    }
   ],
   "source": [
    "clean.missing_values"
   ]
  },
  {
   "cell_type": "code",
   "execution_count": 11,
   "metadata": {},
   "outputs": [],
   "source": [
    "t = clean.replace_missing_constant('C', ['Embarked'])"
   ]
  },
  {
   "cell_type": "code",
   "execution_count": 10,
   "metadata": {},
   "outputs": [
    {
     "name": "stdout",
     "output_type": "stream",
     "text": [
      "             Total   Percent\n",
      "Cabin          687  0.771044\n",
      "Age            177  0.198653\n",
      "Embarked         0  0.000000\n",
      "Fare             0  0.000000\n",
      "Ticket           0  0.000000\n",
      "Parch            0  0.000000\n",
      "SibSp            0  0.000000\n",
      "Sex              0  0.000000\n",
      "Name             0  0.000000\n",
      "Pclass           0  0.000000\n",
      "Survived         0  0.000000\n",
      "PassengerId      0  0.000000\n",
      "             Total   Percent\n",
      "Cabin          327  0.782297\n",
      "Age             86  0.205742\n",
      "Fare             1  0.002392\n",
      "Embarked         0  0.000000\n",
      "Ticket           0  0.000000\n",
      "Parch            0  0.000000\n",
      "SibSp            0  0.000000\n",
      "Sex              0  0.000000\n",
      "Name             0  0.000000\n",
      "Pclass           0  0.000000\n",
      "PassengerId      0  0.000000\n"
     ]
    }
   ],
   "source": [
    "clean.missing_values"
   ]
  },
  {
   "cell_type": "code",
   "execution_count": null,
   "metadata": {},
   "outputs": [],
   "source": []
  }
 ],
 "metadata": {
  "kernelspec": {
   "display_name": "Python 3",
   "language": "python",
   "name": "python3"
  },
  "language_info": {
   "codemirror_mode": {
    "name": "ipython",
    "version": 3
   },
   "file_extension": ".py",
   "mimetype": "text/x-python",
   "name": "python",
   "nbconvert_exporter": "python",
   "pygments_lexer": "ipython3",
   "version": "3.7.3"
  }
 },
 "nbformat": 4,
 "nbformat_minor": 2
}
