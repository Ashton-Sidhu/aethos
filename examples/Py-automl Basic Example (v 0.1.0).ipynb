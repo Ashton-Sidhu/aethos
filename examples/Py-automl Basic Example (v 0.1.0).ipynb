# To add a new cell, type '#%%'
# To add a new markdown cell, type '#%% [markdown]'

#%%
# ms-python.python added
import os
try:
	os.chdir(os.path.join(os.getcwd(), 'examples'))
	print(os.getcwd())
except:
	pass

#%% [markdown]
#    ## The old way

#%%
import pandas as pd


#%%
training_data = pd.read_csv("train.csv")
training_data

#%% [markdown]
#    Let's look at 2 columns Embarked and Pclass

#%%
df = training_data[["Embarked", "Pclass"]]
df


#%%
df.isnull().sum()

#%% [markdown]
#    Let's fill Embarked missing values with category "S"

#%%
df.Embarked = df.Embarked.fillna("S")


#%%
df.isnull().sum()


#%%
dummies_embarked = pd.get_dummies(df['Embarked'], prefix= 'Embarked') 
dummies_pclass = pd.get_dummies(df['Pclass'], prefix= 'Pclass')

df = pd.concat([dummies_embarked, dummies_pclass], axis=1)
df

#%% [markdown]
#    ## The New Way

#%%
from pyautoml.cleaning import Clean
from pyautoml.feature_engineering import Feature
from pyautoml import util
import pandas as pd


#%%
training_data = pd.read_csv("train.csv")


#%%
clean = Clean(data=training_data, use_full_data=True, report_name="titanic")
clean.data = clean.data[["Embarked", "Pclass"]]
column_replace = {"Embarked": "S"}
clean_df = clean.replace_missing_constant("S")


#%%
clean.missing_values

#%%
clean

#%%
feature = Feature(data=clean.data, data_properties=clean.data_properties)


#%%
feature.data


#%%
onehot_cols = ["Embarked", "Pclass"]
feature.onehot_encode(onehot_cols)




#%%
